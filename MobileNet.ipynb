{
 "cells": [
  {
   "cell_type": "code",
   "execution_count": 57,
   "id": "43550c77",
   "metadata": {},
   "outputs": [],
   "source": [
    "import tensorflow as tf\n",
    "from tensorflow import keras\n"
   ]
  },
  {
   "cell_type": "code",
   "execution_count": 64,
   "id": "0060ccfe",
   "metadata": {},
   "outputs": [],
   "source": [
    "class mobile_net_unit(keras.layers.Layer):\n",
    "    def __init__(self,filters_1,filters_2,size_1,size_2,strides_1,strides_2,**kwargs):\n",
    "        super().__init__(**kwargs)\n",
    "        \n",
    "        self.main_layers = [\n",
    "            \n",
    "            keras.layers.DepthwiseConv2D(kernel_size = size_1,strides = strides_1,padding='same'),\n",
    "            keras.layers.BatchNormalization(),\n",
    "            keras.layers.Activation('relu'),\n",
    "            keras.layers.Conv2D(filters=filters_2,kernel_size=size_2,strides=strides_2,padding='same'),\n",
    "            keras.layers.BatchNormalization(),\n",
    "            keras.layers.Activation('relu')\n",
    "            \n",
    "            \n",
    "        ]\n",
    "        \n",
    "    def call(self,inputs):\n",
    "        Z = inputs\n",
    "        for layer  in self.main_layers:\n",
    "            \n",
    "            Z = layer(Z)\n",
    "        \n",
    "        \n",
    "        return(Z)\n",
    "                "
   ]
  },
  {
   "cell_type": "code",
   "execution_count": 65,
   "id": "3a180187",
   "metadata": {},
   "outputs": [],
   "source": [
    "model = keras.models.Sequential()\n",
    "\n",
    "model.add(keras.layers.Conv2D(32,3,strides=2,input_shape=[224,224,3]))\n",
    "\n",
    "## Filter and stride pairs\n",
    "\n",
    "for i in zip([32,64,128,256],[1,2]*4):\n",
    "    \n",
    "    if i[0] == 128 or i[0]==256:\n",
    "    \n",
    "        model.add(mobile_net_unit(filters_1 = i[0],filters_2 = i[0],strides_1 = i[1],strides_2 = 1,size_1 = 3, size_2 = 1)),\n",
    "        model.add(mobile_net_unit(filters_1 = i[0],filters_2 = i[0]*2,strides_1 = i[1],strides_2 = 1,size_1 = 3, size_2 = 1))\n",
    "\n",
    "    \n",
    "    \n",
    "    else:\n",
    "        \n",
    "        model.add(mobile_net_unit(filters_1 = i[0],filters_2 = i[0]*2,strides_1 = i[1],strides_2 = 1,size_1 = 3, size_2 = 1))\n",
    "\n",
    "        \n",
    "        \n",
    "        \n",
    "for i in range(5):\n",
    "    \n",
    "    model.add(mobile_net_unit(filters_1 = 512,filters_2 = 512,strides_1 = 1,strides_2 = 1,size_1 = 3, size_2 = 1))\n",
    "\n",
    "    \n",
    "\n",
    "model.add(mobile_net_unit(filters_1 = 512,filters_2 = 1024,strides_1 = 2,strides_2 = 1,size_1 = 3, size_2 = 1))\n",
    "        \n",
    "model.add(mobile_net_unit(filters_1 = 1024,filters_2 = 1024,strides_1 = 1,strides_2 = 1,size_1 = 3, size_2 = 1))\n",
    "\n",
    "model.add(keras.layers.AvgPool2D(pool_size=7,strides=1,padding='valid'))\n",
    "\n",
    "model.add(keras.layers.Flatten())\n",
    "\n",
    "model.add(keras.layers.Dense(1000, activation = 'softmax'))\n",
    "\n",
    "\n",
    "\n",
    "\n",
    "\n",
    "\n",
    "\n",
    "\n",
    "\n"
   ]
  },
  {
   "cell_type": "code",
   "execution_count": 66,
   "id": "bd8f19df",
   "metadata": {},
   "outputs": [
    {
     "name": "stdout",
     "output_type": "stream",
     "text": [
      "Model: \"sequential_28\"\n",
      "_________________________________________________________________\n",
      "Layer (type)                 Output Shape              Param #   \n",
      "=================================================================\n",
      "conv2d_253 (Conv2D)          (None, 111, 111, 32)      896       \n",
      "_________________________________________________________________\n",
      "mobile_net_unit_229 (mobile_ (None, 111, 111, 64)      2816      \n",
      "_________________________________________________________________\n",
      "mobile_net_unit_230 (mobile_ (None, 56, 56, 128)       9728      \n",
      "_________________________________________________________________\n",
      "mobile_net_unit_231 (mobile_ (None, 56, 56, 128)       18816     \n",
      "_________________________________________________________________\n",
      "mobile_net_unit_232 (mobile_ (None, 56, 56, 256)       35840     \n",
      "_________________________________________________________________\n",
      "mobile_net_unit_233 (mobile_ (None, 28, 28, 256)       70400     \n",
      "_________________________________________________________________\n",
      "mobile_net_unit_234 (mobile_ (None, 14, 14, 512)       137216    \n",
      "_________________________________________________________________\n",
      "mobile_net_unit_235 (mobile_ (None, 14, 14, 512)       271872    \n",
      "_________________________________________________________________\n",
      "mobile_net_unit_236 (mobile_ (None, 14, 14, 512)       271872    \n",
      "_________________________________________________________________\n",
      "mobile_net_unit_237 (mobile_ (None, 14, 14, 512)       271872    \n",
      "_________________________________________________________________\n",
      "mobile_net_unit_238 (mobile_ (None, 14, 14, 512)       271872    \n",
      "_________________________________________________________________\n",
      "mobile_net_unit_239 (mobile_ (None, 14, 14, 512)       271872    \n",
      "_________________________________________________________________\n",
      "mobile_net_unit_240 (mobile_ (None, 7, 7, 1024)        536576    \n",
      "_________________________________________________________________\n",
      "mobile_net_unit_241 (mobile_ (None, 7, 7, 1024)        1068032   \n",
      "_________________________________________________________________\n",
      "average_pooling2d_7 (Average (None, 1, 1, 1024)        0         \n",
      "_________________________________________________________________\n",
      "flatten_4 (Flatten)          (None, 1024)              0         \n",
      "_________________________________________________________________\n",
      "dense_3 (Dense)              (None, 1000)              1025000   \n",
      "=================================================================\n",
      "Total params: 4,264,680\n",
      "Trainable params: 4,242,856\n",
      "Non-trainable params: 21,824\n",
      "_________________________________________________________________\n"
     ]
    }
   ],
   "source": [
    "model.build()\n",
    "model.summary()"
   ]
  },
  {
   "cell_type": "code",
   "execution_count": 13,
   "id": "830a250f",
   "metadata": {},
   "outputs": [
    {
     "data": {
      "text/plain": [
       "[1, 2, 1, 2, 1, 2, 1, 2]"
      ]
     },
     "execution_count": 13,
     "metadata": {},
     "output_type": "execute_result"
    }
   ],
   "source": []
  },
  {
   "cell_type": "code",
   "execution_count": null,
   "id": "3a867174",
   "metadata": {},
   "outputs": [],
   "source": []
  }
 ],
 "metadata": {
  "kernelspec": {
   "display_name": "Python 3 (ipykernel)",
   "language": "python",
   "name": "python3"
  },
  "language_info": {
   "codemirror_mode": {
    "name": "ipython",
    "version": 3
   },
   "file_extension": ".py",
   "mimetype": "text/x-python",
   "name": "python",
   "nbconvert_exporter": "python",
   "pygments_lexer": "ipython3",
   "version": "3.7.11"
  }
 },
 "nbformat": 4,
 "nbformat_minor": 5
}
