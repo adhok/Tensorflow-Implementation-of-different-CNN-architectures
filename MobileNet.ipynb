{
 "cells": [
  {
   "cell_type": "code",
   "execution_count": 1,
   "id": "568af59d",
   "metadata": {},
   "outputs": [],
   "source": [
    "import tensorflow as tf\n",
    "from tensorflow import keras\n"
   ]
  },
  {
   "cell_type": "code",
   "execution_count": 20,
   "id": "d9103e47",
   "metadata": {},
   "outputs": [],
   "source": [
    "class mobile_net_unit(keras.layers.Layer):\n",
    "    def __init__(self,filters_1,filters_2,size_1,size_2,strides_1,strides_2,**kwargs):\n",
    "        super().__init__(**kwargs)\n",
    "        \n",
    "        self.main_layers = [\n",
    "            \n",
    "            keras.layers.SeparableConv2D(filters = filters_1,kernel_size = size_1,strides = strides_1,padding='same'),\n",
    "            keras.layers.BatchNormalization(),\n",
    "            keras.layers.Activation('relu'),\n",
    "            keras.layers.Conv2D(filters=filters_2,kernel_size=size_2,strides=strides_2,padding='same'),\n",
    "            keras.layers.BatchNormalization(),\n",
    "            keras.layers.Activation('relu')\n",
    "            \n",
    "            \n",
    "        ]\n",
    "        \n",
    "    def call(self,inputs):\n",
    "        Z = inputs\n",
    "        for layer  in self.main_layers:\n",
    "            \n",
    "            Z = layer(Z)\n",
    "        \n",
    "        \n",
    "        return(Z)\n",
    "                "
   ]
  },
  {
   "cell_type": "code",
   "execution_count": 52,
   "id": "6e394375",
   "metadata": {},
   "outputs": [],
   "source": [
    "model = keras.models.Sequential()\n",
    "\n",
    "model.add(keras.layers.Conv2D(32,3,strides=2,input_shape=[224,224,3]))\n",
    "\n",
    "## Filter and stride pairs\n",
    "\n",
    "for i in zip([32,64,128,256],[1,2]*4):\n",
    "    \n",
    "    if i[0] == 128 or i[0]==256:\n",
    "    \n",
    "        model.add(mobile_net_unit(filters_1 = i[0],filters_2 = i[0],strides_1 = i[1],strides_2 = 1,size_1 = 3, size_2 = 1)),\n",
    "        model.add(mobile_net_unit(filters_1 = i[0],filters_2 = i[0]*2,strides_1 = i[1],strides_2 = 1,size_1 = 3, size_2 = 1))\n",
    "\n",
    "    \n",
    "    \n",
    "    else:\n",
    "        \n",
    "        model.add(mobile_net_unit(filters_1 = i[0],filters_2 = i[0]*2,strides_1 = i[1],strides_2 = 1,size_1 = 3, size_2 = 1))\n",
    "\n",
    "        \n",
    "        \n",
    "        \n",
    "for i in range(5):\n",
    "    \n",
    "    model.add(mobile_net_unit(filters_1 = 512,filters_2 = 512,strides_1 = 1,strides_2 = 1,size_1 = 3, size_2 = 1))\n",
    "\n",
    "    \n",
    "\n",
    "model.add(mobile_net_unit(filters_1 = 512,filters_2 = 1024,strides_1 = 2,strides_2 = 1,size_1 = 3, size_2 = 1))\n",
    "        \n",
    "model.add(mobile_net_unit(filters_1 = 1024,filters_2 = 1024,strides_1 = 1,strides_2 = 1,size_1 = 3, size_2 = 1))\n",
    "\n",
    "model.add(keras.layers.AvgPool2D(pool_size=7,strides=1,padding='valid'))\n",
    "\n",
    "model.add(keras.layers.Flatten())\n",
    "\n",
    "model.add(keras.layers.Dense(1000, activation = 'softmax'))\n",
    "\n",
    "\n",
    "\n",
    "\n",
    "\n",
    "\n",
    "\n",
    "\n",
    "\n"
   ]
  },
  {
   "cell_type": "code",
   "execution_count": 53,
   "id": "38178ecd",
   "metadata": {},
   "outputs": [
    {
     "name": "stdout",
     "output_type": "stream",
     "text": [
      "Model: \"sequential_24\"\n",
      "_________________________________________________________________\n",
      "Layer (type)                 Output Shape              Param #   \n",
      "=================================================================\n",
      "conv2d_210 (Conv2D)          (None, 111, 111, 32)      896       \n",
      "_________________________________________________________________\n",
      "mobile_net_unit_189 (mobile_ (None, 111, 111, 64)      3840      \n",
      "_________________________________________________________________\n",
      "mobile_net_unit_190 (mobile_ (None, 56, 56, 128)       13824     \n",
      "_________________________________________________________________\n",
      "mobile_net_unit_191 (mobile_ (None, 56, 56, 128)       35200     \n",
      "_________________________________________________________________\n",
      "mobile_net_unit_192 (mobile_ (None, 56, 56, 256)       52224     \n",
      "_________________________________________________________________\n",
      "mobile_net_unit_193 (mobile_ (None, 28, 28, 256)       135936    \n",
      "_________________________________________________________________\n",
      "mobile_net_unit_194 (mobile_ (None, 14, 14, 512)       202752    \n",
      "_________________________________________________________________\n",
      "mobile_net_unit_195 (mobile_ (None, 14, 14, 512)       534016    \n",
      "_________________________________________________________________\n",
      "mobile_net_unit_196 (mobile_ (None, 14, 14, 512)       534016    \n",
      "_________________________________________________________________\n",
      "mobile_net_unit_197 (mobile_ (None, 14, 14, 512)       534016    \n",
      "_________________________________________________________________\n",
      "mobile_net_unit_198 (mobile_ (None, 14, 14, 512)       534016    \n",
      "_________________________________________________________________\n",
      "mobile_net_unit_199 (mobile_ (None, 14, 14, 512)       534016    \n",
      "_________________________________________________________________\n",
      "mobile_net_unit_200 (mobile_ (None, 7, 7, 1024)        798720    \n",
      "_________________________________________________________________\n",
      "mobile_net_unit_201 (mobile_ (None, 7, 7, 1024)        2116608   \n",
      "_________________________________________________________________\n",
      "average_pooling2d_4 (Average (None, 1, 1, 1024)        0         \n",
      "_________________________________________________________________\n",
      "flatten_1 (Flatten)          (None, 1024)              0         \n",
      "_________________________________________________________________\n",
      "dense (Dense)                (None, 1000)              1025000   \n",
      "=================================================================\n",
      "Total params: 7,055,080\n",
      "Trainable params: 7,033,256\n",
      "Non-trainable params: 21,824\n",
      "_________________________________________________________________\n"
     ]
    }
   ],
   "source": [
    "model.build()\n",
    "model.summary()"
   ]
  },
  {
   "cell_type": "code",
   "execution_count": 13,
   "id": "e8f01714",
   "metadata": {},
   "outputs": [
    {
     "data": {
      "text/plain": [
       "[1, 2, 1, 2, 1, 2, 1, 2]"
      ]
     },
     "execution_count": 13,
     "metadata": {},
     "output_type": "execute_result"
    }
   ],
   "source": []
  },
  {
   "cell_type": "code",
   "execution_count": null,
   "id": "ac89e959",
   "metadata": {},
   "outputs": [],
   "source": []
  }
 ],
 "metadata": {
  "kernelspec": {
   "display_name": "Python 3 (ipykernel)",
   "language": "python",
   "name": "python3"
  },
  "language_info": {
   "codemirror_mode": {
    "name": "ipython",
    "version": 3
   },
   "file_extension": ".py",
   "mimetype": "text/x-python",
   "name": "python",
   "nbconvert_exporter": "python",
   "pygments_lexer": "ipython3",
   "version": "3.7.11"
  }
 },
 "nbformat": 4,
 "nbformat_minor": 5
}
