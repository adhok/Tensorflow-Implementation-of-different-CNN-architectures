{
 "cells": [
  {
   "cell_type": "code",
   "execution_count": 3,
   "id": "08dfec6e",
   "metadata": {},
   "outputs": [],
   "source": [
    "from tensorflow import keras\n",
    "from tensorflow.keras.layers import Layer\n",
    "from tensorflow.keras import backend as K\n",
    "## Credits : https://stackoverflow.com/questions/53855941/how-to-implement-rbf-activation-function-in-keras\n",
    "class RBFLayer(Layer):\n",
    "    def __init__(self, units, gamma, **kwargs):\n",
    "        super(RBFLayer, self).__init__(**kwargs)\n",
    "        self.units = units\n",
    "        self.gamma = K.cast_to_floatx(gamma)\n",
    "\n",
    "    def build(self, input_shape):\n",
    "        self.mu = self.add_weight(name='mu',\n",
    "                                  shape=(int(input_shape[1]), self.units),\n",
    "                                  initializer='uniform',\n",
    "                                  trainable=True)\n",
    "        super(RBFLayer, self).build(input_shape)\n",
    "\n",
    "    def call(self, inputs):\n",
    "        diff = K.expand_dims(inputs) - self.mu\n",
    "        l2 = K.sum(K.pow(diff,2), axis=1)\n",
    "        res = K.exp(-1 * self.gamma * l2)\n",
    "        return res\n",
    "\n",
    "    def compute_output_shape(self, input_shape):\n",
    "        return (input_shape[0], self.units)\n"
   ]
  },
  {
   "cell_type": "code",
   "execution_count": 4,
   "id": "40e50408",
   "metadata": {},
   "outputs": [
    {
     "name": "stderr",
     "output_type": "stream",
     "text": [
      "2022-06-12 12:05:22.830401: I tensorflow/core/platform/cpu_feature_guard.cc:145] This TensorFlow binary is optimized with Intel(R) MKL-DNN to use the following CPU instructions in performance critical operations:  SSE4.1 SSE4.2\n",
      "To enable them in non-MKL-DNN operations, rebuild TensorFlow with the appropriate compiler flags.\n",
      "2022-06-12 12:05:22.831095: I tensorflow/core/common_runtime/process_util.cc:115] Creating new thread pool with default inter op setting: 8. Tune using inter_op_parallelism_threads for best performance.\n"
     ]
    }
   ],
   "source": [
    "model = keras.models.Sequential()\n",
    "model.add(keras.layers.Conv2D(6,5,strides=1,input_shape=[32,32,1],padding='valid',use_bias=False))\n",
    "model.add(keras.layers.Activation('tanh'))\n",
    "model.add(keras.layers.AveragePooling2D(pool_size=2,strides=2,padding='valid'))\n",
    "model.add(keras.layers.Activation('tanh'))\n",
    "model.add(keras.layers.Conv2D(16,5,strides=1,padding='valid',use_bias=False))\n",
    "model.add(keras.layers.Activation('tanh'))\n",
    "model.add(keras.layers.AveragePooling2D(pool_size=2,strides=2,padding='valid'))\n",
    "model.add(keras.layers.Activation('tanh'))\n",
    "model.add(keras.layers.Conv2D(120,5,strides=1,padding='valid',use_bias=False))\n",
    "model.add(keras.layers.Activation('tanh'))\n",
    "model.add(keras.layers.Flatten())\n",
    "model.add(keras.layers.Dense(84,activation='tanh'))\n",
    "model.add(RBFLayer(10, 0.5))\n",
    "\n",
    "\n",
    "\n",
    "\n",
    "\n"
   ]
  },
  {
   "cell_type": "code",
   "execution_count": null,
   "id": "8ef5ac76",
   "metadata": {},
   "outputs": [],
   "source": []
  }
 ],
 "metadata": {
  "kernelspec": {
   "display_name": "Python 3 (ipykernel)",
   "language": "python",
   "name": "python3"
  },
  "language_info": {
   "codemirror_mode": {
    "name": "ipython",
    "version": 3
   },
   "file_extension": ".py",
   "mimetype": "text/x-python",
   "name": "python",
   "nbconvert_exporter": "python",
   "pygments_lexer": "ipython3",
   "version": "3.7.11"
  }
 },
 "nbformat": 4,
 "nbformat_minor": 5
}
