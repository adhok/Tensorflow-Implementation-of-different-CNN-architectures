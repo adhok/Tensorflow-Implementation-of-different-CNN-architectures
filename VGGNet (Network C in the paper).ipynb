{
 "cells": [
  {
   "cell_type": "code",
   "execution_count": 1,
   "id": "10971277",
   "metadata": {},
   "outputs": [],
   "source": [
    "import tensorflow as tf\n",
    "from tensorflow import keras"
   ]
  },
  {
   "cell_type": "code",
   "execution_count": 2,
   "id": "28528551",
   "metadata": {},
   "outputs": [
    {
     "name": "stderr",
     "output_type": "stream",
     "text": [
      "2022-07-07 23:52:33.628003: I tensorflow/core/platform/cpu_feature_guard.cc:145] This TensorFlow binary is optimized with Intel(R) MKL-DNN to use the following CPU instructions in performance critical operations:  SSE4.1 SSE4.2\n",
      "To enable them in non-MKL-DNN operations, rebuild TensorFlow with the appropriate compiler flags.\n",
      "2022-07-07 23:52:33.628542: I tensorflow/core/common_runtime/process_util.cc:115] Creating new thread pool with default inter op setting: 8. Tune using inter_op_parallelism_threads for best performance.\n"
     ]
    },
    {
     "name": "stdout",
     "output_type": "stream",
     "text": [
      "Model: \"sequential\"\n",
      "_________________________________________________________________\n",
      "Layer (type)                 Output Shape              Param #   \n",
      "=================================================================\n",
      "conv2d (Conv2D)              (None, 224, 224, 64)      1792      \n",
      "_________________________________________________________________\n",
      "conv2d_1 (Conv2D)            (None, 224, 224, 64)      36928     \n",
      "_________________________________________________________________\n",
      "max_pooling2d (MaxPooling2D) (None, 112, 112, 64)      0         \n",
      "_________________________________________________________________\n",
      "conv2d_2 (Conv2D)            (None, 112, 112, 128)     73856     \n",
      "_________________________________________________________________\n",
      "conv2d_3 (Conv2D)            (None, 112, 112, 128)     147584    \n",
      "_________________________________________________________________\n",
      "max_pooling2d_1 (MaxPooling2 (None, 56, 56, 128)       0         \n",
      "_________________________________________________________________\n",
      "conv2d_4 (Conv2D)            (None, 56, 56, 256)       295168    \n",
      "_________________________________________________________________\n",
      "conv2d_5 (Conv2D)            (None, 56, 56, 256)       590080    \n",
      "_________________________________________________________________\n",
      "conv2d_6 (Conv2D)            (None, 56, 56, 256)       65792     \n",
      "_________________________________________________________________\n",
      "max_pooling2d_2 (MaxPooling2 (None, 28, 28, 256)       0         \n",
      "_________________________________________________________________\n",
      "conv2d_7 (Conv2D)            (None, 28, 28, 512)       1180160   \n",
      "_________________________________________________________________\n",
      "conv2d_8 (Conv2D)            (None, 28, 28, 512)       2359808   \n",
      "_________________________________________________________________\n",
      "conv2d_9 (Conv2D)            (None, 28, 28, 512)       262656    \n",
      "_________________________________________________________________\n",
      "max_pooling2d_3 (MaxPooling2 (None, 14, 14, 512)       0         \n",
      "_________________________________________________________________\n",
      "conv2d_10 (Conv2D)           (None, 14, 14, 512)       2359808   \n",
      "_________________________________________________________________\n",
      "conv2d_11 (Conv2D)           (None, 14, 14, 512)       2359808   \n",
      "_________________________________________________________________\n",
      "conv2d_12 (Conv2D)           (None, 14, 14, 512)       262656    \n",
      "_________________________________________________________________\n",
      "max_pooling2d_4 (MaxPooling2 (None, 7, 7, 512)         0         \n",
      "_________________________________________________________________\n",
      "flatten (Flatten)            (None, 25088)             0         \n",
      "_________________________________________________________________\n",
      "dense (Dense)                (None, 4096)              102764544 \n",
      "_________________________________________________________________\n",
      "dense_1 (Dense)              (None, 4096)              16781312  \n",
      "_________________________________________________________________\n",
      "dense_2 (Dense)              (None, 1000)              4097000   \n",
      "=================================================================\n",
      "Total params: 133,638,952\n",
      "Trainable params: 133,638,952\n",
      "Non-trainable params: 0\n",
      "_________________________________________________________________\n"
     ]
    }
   ],
   "source": [
    "model = keras.models.Sequential()\n",
    "model.add(keras.layers.Conv2D(64,3,strides=1,padding='same',activation = 'relu',input_shape=[224,224,3]))\n",
    "model.add(keras.layers.Conv2D(64,3,strides=1,padding='same',activation = 'relu'))\n",
    "model.add(keras.layers.MaxPool2D(pool_size = 2, strides=2,padding='valid'))\n",
    "model.add(keras.layers.Conv2D(128,3,strides=1,padding='same',activation = 'relu'))\n",
    "model.add(keras.layers.Conv2D(128,3,strides=1,padding='same',activation = 'relu'))\n",
    "model.add(keras.layers.MaxPool2D(pool_size = 2, strides=2,padding='valid'))\n",
    "model.add(keras.layers.Conv2D(256,3,strides=1,padding='same',activation = 'relu'))\n",
    "model.add(keras.layers.Conv2D(256,3,strides=1,padding='same',activation = 'relu'))\n",
    "model.add(keras.layers.Conv2D(256,1,strides=1,padding='same',activation = 'relu'))\n",
    "model.add(keras.layers.MaxPool2D(pool_size = 2, strides=2,padding='valid'))\n",
    "model.add(keras.layers.Conv2D(512,3,strides=1,padding='same',activation = 'relu'))\n",
    "model.add(keras.layers.Conv2D(512,3,strides=1,padding='same',activation = 'relu'))\n",
    "model.add(keras.layers.Conv2D(512,1,strides=1,padding='same',activation = 'relu'))\n",
    "model.add(keras.layers.MaxPool2D(pool_size = 2, strides=2,padding='valid'))\n",
    "model.add(keras.layers.Conv2D(512,3,strides=1,padding='same',activation = 'relu'))\n",
    "model.add(keras.layers.Conv2D(512,3,strides=1,padding='same',activation = 'relu'))\n",
    "model.add(keras.layers.Conv2D(512,1,strides=1,padding='same',activation = 'relu'))\n",
    "model.add(keras.layers.MaxPool2D(pool_size = 2, strides=2,padding='valid'))\n",
    "model.add(keras.layers.Flatten())\n",
    "model.add(keras.layers.Dense(4096,activation='relu'))\n",
    "model.add(keras.layers.Dense(4096,activation='relu'))\n",
    "model.add(keras.layers.Dense(1000,activation='softmax'))\n",
    "\n",
    "model.build()\n",
    "\n",
    "model.summary()\n",
    "\n",
    "\n",
    "\n",
    "\n",
    "\n",
    "\n",
    "\n",
    "\n",
    "\n",
    "\n",
    "\n",
    "\n",
    "\n",
    "\n",
    "\n"
   ]
  },
  {
   "cell_type": "code",
   "execution_count": null,
   "id": "51e64d7e",
   "metadata": {},
   "outputs": [],
   "source": []
  }
 ],
 "metadata": {
  "kernelspec": {
   "display_name": "Python 3 (ipykernel)",
   "language": "python",
   "name": "python3"
  },
  "language_info": {
   "codemirror_mode": {
    "name": "ipython",
    "version": 3
   },
   "file_extension": ".py",
   "mimetype": "text/x-python",
   "name": "python",
   "nbconvert_exporter": "python",
   "pygments_lexer": "ipython3",
   "version": "3.7.11"
  }
 },
 "nbformat": 4,
 "nbformat_minor": 5
}
